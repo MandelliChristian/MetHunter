{
 "cells": [
  {
   "cell_type": "code",
   "execution_count": 1,
   "id": "cf4f5189-1929-46c9-96c4-90a0eb634165",
   "metadata": {
    "tags": []
   },
   "outputs": [
    {
     "name": "stdout",
     "output_type": "stream",
     "text": [
      "Channels:\n",
      " - defaults\n",
      "Platform: osx-arm64\n",
      "Collecting package metadata (repodata.json): done\n",
      "Solving environment: done\n",
      "\n",
      "# All requested packages already installed.\n",
      "\n",
      "\n",
      "Note: you may need to restart the kernel to use updated packages.\n"
     ]
    }
   ],
   "source": [
    "conda update -n base -c defaults conda"
   ]
  },
  {
   "cell_type": "code",
   "execution_count": 2,
   "id": "89dd535d-3d46-40e4-ba60-b368bfd92fd5",
   "metadata": {
    "tags": []
   },
   "outputs": [
    {
     "name": "stdout",
     "output_type": "stream",
     "text": [
      "Requirement already satisfied: gffutils in /Users/christianmandelli/miniconda3/envs/myenv/lib/python3.8/site-packages (0.12)\n",
      "Requirement already satisfied: pyfaidx>=0.5.5.2 in /Users/christianmandelli/miniconda3/envs/myenv/lib/python3.8/site-packages (from gffutils) (0.8.1.1)\n",
      "Requirement already satisfied: six>=1.12.0 in /Users/christianmandelli/miniconda3/envs/myenv/lib/python3.8/site-packages (from gffutils) (1.16.0)\n",
      "Requirement already satisfied: argh>=0.26.2 in /Users/christianmandelli/miniconda3/envs/myenv/lib/python3.8/site-packages (from gffutils) (0.31.2)\n",
      "Requirement already satisfied: argcomplete>=1.9.4 in /Users/christianmandelli/miniconda3/envs/myenv/lib/python3.8/site-packages (from gffutils) (3.2.2)\n",
      "Requirement already satisfied: simplejson in /Users/christianmandelli/miniconda3/envs/myenv/lib/python3.8/site-packages (from gffutils) (3.19.2)\n",
      "Requirement already satisfied: setuptools in /Users/christianmandelli/miniconda3/envs/myenv/lib/python3.8/site-packages (from pyfaidx>=0.5.5.2->gffutils) (68.2.2)\n",
      "Requirement already satisfied: importlib-metadata in /Users/christianmandelli/miniconda3/envs/myenv/lib/python3.8/site-packages (from pyfaidx>=0.5.5.2->gffutils) (7.0.1)\n",
      "Requirement already satisfied: zipp>=0.5 in /Users/christianmandelli/miniconda3/envs/myenv/lib/python3.8/site-packages (from importlib-metadata->pyfaidx>=0.5.5.2->gffutils) (3.17.0)\n",
      "Requirement already satisfied: pyfaidx in /Users/christianmandelli/miniconda3/envs/myenv/lib/python3.8/site-packages (0.8.1.1)\n",
      "Requirement already satisfied: setuptools in /Users/christianmandelli/miniconda3/envs/myenv/lib/python3.8/site-packages (from pyfaidx) (68.2.2)\n",
      "Requirement already satisfied: importlib-metadata in /Users/christianmandelli/miniconda3/envs/myenv/lib/python3.8/site-packages (from pyfaidx) (7.0.1)\n",
      "Requirement already satisfied: zipp>=0.5 in /Users/christianmandelli/miniconda3/envs/myenv/lib/python3.8/site-packages (from importlib-metadata->pyfaidx) (3.17.0)\n",
      "Requirement already satisfied: biopython in /Users/christianmandelli/miniconda3/envs/myenv/lib/python3.8/site-packages (1.83)\n",
      "Requirement already satisfied: numpy in /Users/christianmandelli/miniconda3/envs/myenv/lib/python3.8/site-packages (from biopython) (1.24.3)\n",
      "Requirement already satisfied: matplotlib in /Users/christianmandelli/miniconda3/envs/myenv/lib/python3.8/site-packages (3.7.2)\n",
      "Requirement already satisfied: contourpy>=1.0.1 in /Users/christianmandelli/miniconda3/envs/myenv/lib/python3.8/site-packages (from matplotlib) (1.0.5)\n",
      "Requirement already satisfied: cycler>=0.10 in /Users/christianmandelli/miniconda3/envs/myenv/lib/python3.8/site-packages (from matplotlib) (0.11.0)\n",
      "Requirement already satisfied: fonttools>=4.22.0 in /Users/christianmandelli/miniconda3/envs/myenv/lib/python3.8/site-packages (from matplotlib) (4.25.0)\n",
      "Requirement already satisfied: kiwisolver>=1.0.1 in /Users/christianmandelli/miniconda3/envs/myenv/lib/python3.8/site-packages (from matplotlib) (1.4.4)\n",
      "Requirement already satisfied: numpy>=1.20 in /Users/christianmandelli/miniconda3/envs/myenv/lib/python3.8/site-packages (from matplotlib) (1.24.3)\n",
      "Requirement already satisfied: packaging>=20.0 in /Users/christianmandelli/miniconda3/envs/myenv/lib/python3.8/site-packages (from matplotlib) (23.1)\n",
      "Requirement already satisfied: pillow>=6.2.0 in /Users/christianmandelli/miniconda3/envs/myenv/lib/python3.8/site-packages (from matplotlib) (10.2.0)\n",
      "Requirement already satisfied: pyparsing<3.1,>=2.3.1 in /Users/christianmandelli/miniconda3/envs/myenv/lib/python3.8/site-packages (from matplotlib) (3.0.9)\n",
      "Requirement already satisfied: python-dateutil>=2.7 in /Users/christianmandelli/miniconda3/envs/myenv/lib/python3.8/site-packages (from matplotlib) (2.8.2)\n",
      "Requirement already satisfied: importlib-resources>=3.2.0 in /Users/christianmandelli/miniconda3/envs/myenv/lib/python3.8/site-packages (from matplotlib) (6.1.1)\n",
      "Requirement already satisfied: zipp>=3.1.0 in /Users/christianmandelli/miniconda3/envs/myenv/lib/python3.8/site-packages (from importlib-resources>=3.2.0->matplotlib) (3.17.0)\n",
      "Requirement already satisfied: six>=1.5 in /Users/christianmandelli/miniconda3/envs/myenv/lib/python3.8/site-packages (from python-dateutil>=2.7->matplotlib) (1.16.0)\n",
      "Requirement already satisfied: pandas in /Users/christianmandelli/miniconda3/envs/myenv/lib/python3.8/site-packages (2.0.3)\n",
      "Requirement already satisfied: python-dateutil>=2.8.2 in /Users/christianmandelli/miniconda3/envs/myenv/lib/python3.8/site-packages (from pandas) (2.8.2)\n",
      "Requirement already satisfied: pytz>=2020.1 in /Users/christianmandelli/miniconda3/envs/myenv/lib/python3.8/site-packages (from pandas) (2023.3.post1)\n",
      "Requirement already satisfied: tzdata>=2022.1 in /Users/christianmandelli/miniconda3/envs/myenv/lib/python3.8/site-packages (from pandas) (2023.3)\n",
      "Requirement already satisfied: numpy>=1.20.3 in /Users/christianmandelli/miniconda3/envs/myenv/lib/python3.8/site-packages (from pandas) (1.24.3)\n",
      "Requirement already satisfied: six>=1.5 in /Users/christianmandelli/miniconda3/envs/myenv/lib/python3.8/site-packages (from python-dateutil>=2.8.2->pandas) (1.16.0)\n"
     ]
    }
   ],
   "source": [
    "%%sh\n",
    "pip install gffutils # https://pythonhosted.org/pyfaidx/\n",
    "pip install pyfaidx # https://pythonhosted.org/gffutils/contents.html\n",
    "pip install biopython # https://biopython.org\n",
    "pip install matplotlib # https://matplotlib.org\n",
    "pip install pandas # https://pandas.pydata.org"
   ]
  },
  {
   "cell_type": "code",
   "execution_count": 3,
   "id": "89b58a2c-aead-44a6-a8d1-68bbc0b633d0",
   "metadata": {
    "tags": []
   },
   "outputs": [
    {
     "name": "stdout",
     "output_type": "stream",
     "text": [
      "Number of 'C' in the input genome: 511\n",
      "This represents the 15.94% of the GRBV genome (3206 bp)!\n"
     ]
    }
   ],
   "source": [
    "#Import biopython module\n",
    "from Bio import SeqIO\n",
    "\n",
    "#Define a function for reading through the sequence and count the Cs\n",
    "def total_c(your_fasta_file):\n",
    "    count = 0\n",
    "    length = 0\n",
    "    for record in SeqIO.parse(your_fasta_file, \"fasta\"):\n",
    "        seq = str(record.seq)\n",
    "        count += seq.count('C')\n",
    "        length += len(seq)\n",
    "    c_per = (count / length) * 100\n",
    "\n",
    "    return count, length, c_per\n",
    "\n",
    "#Apply the function\n",
    "fasta_file = 'GRBV.fasta'\n",
    "total_c_in_seq = (total_c(fasta_file)[0])\n",
    "C_percentage = str(round((total_c(fasta_file)[2]), 2))\n",
    "genome_length = str(total_c(fasta_file)[1])\n",
    "print(f\"Number of 'C' in the input genome: {total_c_in_seq}\\nThis represents the {C_percentage}% of the GRBV genome ({genome_length} bp)!\")"
   ]
  },
  {
   "cell_type": "code",
   "execution_count": 4,
   "id": "260588c6-aaa7-4fe0-9a9a-d74c8524e9b6",
   "metadata": {
    "tags": []
   },
   "outputs": [
    {
     "name": "stdout",
     "output_type": "stream",
     "text": [
      "    Type  Start   End\n",
      "0    CHG      2     4\n",
      "1    CHH      6     8\n",
      "2    CHH     11    13\n",
      "3    CpG     20    21\n",
      "4    CHH     29    31\n",
      "..   ...    ...   ...\n",
      "395  CHH   3139  3141\n",
      "396  CHH   3143  3145\n",
      "397  CHH   3169  3171\n",
      "398  CHH   3176  3178\n",
      "399  CHH   3195  3197\n",
      "\n",
      "[400 rows x 3 columns]\n",
      "\n",
      "Total number of CpG islands in the FASTA file: 400\n",
      "Number of CpG islands (CpG): 105\n",
      "Number of CpG islands (CHG): 78\n",
      "Number of CpG islands (CHH): 217\n"
     ]
    }
   ],
   "source": [
    "#Import packages and modules\n",
    "import pandas as pd\n",
    "import re\n",
    "\n",
    "#Here I'm creating the function for collecting the data about CpG island for a given genome in fasta format\n",
    "def cpg_counter(fasta_file):\n",
    "    total = 0\n",
    "    cpg = 0\n",
    "    chg = 0\n",
    "    chh = 0\n",
    "    cpg_islands = []\n",
    "    pattern = re.compile(r'CG|C[ACT]G|C[ACT][ACT]')\n",
    "\n",
    "    for record in SeqIO.parse(fasta_file, \"fasta\"):\n",
    "        seq = str(record.seq)\n",
    "        matches = pattern.finditer(seq)\n",
    "        for match in matches:\n",
    "            total += 1\n",
    "            if match.group() == 'CG':\n",
    "                cpg += 1\n",
    "                island_type = 'CpG'\n",
    "            elif match.group() == 'CAG' or match.group() == 'CTG' or match.group() == 'CCG':\n",
    "                chg += 1\n",
    "                island_type = 'CHG'\n",
    "            elif len(match.group()) == 3:\n",
    "                chh += 1\n",
    "                island_type = 'CHH'\n",
    "            #Here, the +1 enable us to convert the output coordinates from 0-based to 1-based\n",
    "            start = match.start() + 1\n",
    "            end = match.end()\n",
    "            cpg_islands.append((island_type, start, end))\n",
    "\n",
    "    return total, cpg, chg, chh, cpg_islands\n",
    "\n",
    "#Here I'm applying our new the function\n",
    "file = 'GRBV.fasta'\n",
    "total, cpg, chg, chh, cpg_islands = cpg_counter(file)\n",
    "\n",
    "#Now I can create a data frame containing our CpG islands data\n",
    "df_initial = pd.DataFrame(cpg_islands, columns=['Type', 'Start', 'End'])\n",
    "output = 'cpg_islands.csv'\n",
    "df_initial.to_csv(output, index=False)\n",
    "#Here we print our new data frame\n",
    "print(df_initial)\n",
    "print()\n",
    "\n",
    "#And now we print the counts\n",
    "print(f\"Total number of CpG islands in the FASTA file: {total}\")\n",
    "print(f\"Number of CpG islands (CpG): {cpg}\")\n",
    "print(f\"Number of CpG islands (CHG): {chg}\")\n",
    "print(f\"Number of CpG islands (CHH): {chh}\")"
   ]
  },
  {
   "cell_type": "code",
   "execution_count": 5,
   "id": "5d5ba80b-a67e-490d-8179-ebebff46ec13",
   "metadata": {
    "tags": []
   },
   "outputs": [
    {
     "name": "stdout",
     "output_type": "stream",
     "text": [
      "    Position Letter\n",
      "0          6      M\n",
      "1          8      M\n",
      "2         12      M\n",
      "3         29      M\n",
      "4         33      M\n",
      "..       ...    ...\n",
      "88      2983      M\n",
      "89      2985      M\n",
      "90      3016      M\n",
      "91      3031      M\n",
      "92      3034      M\n",
      "\n",
      "[93 rows x 2 columns]\n",
      "    Type  Position   End\n",
      "0    CHG         2     4\n",
      "1    CHH         6     8\n",
      "2    CHH        11    13\n",
      "3    CpG        20    21\n",
      "4    CHH        29    31\n",
      "..   ...       ...   ...\n",
      "395  CHH      3139  3141\n",
      "396  CHH      3143  3145\n",
      "397  CHH      3169  3171\n",
      "398  CHH      3176  3178\n",
      "399  CHH      3195  3197\n",
      "\n",
      "[400 rows x 3 columns]\n"
     ]
    }
   ],
   "source": [
    "#Assign our second fasta or text file to the variable file\n",
    "file = '24dpi_GRBV_M.txt' \n",
    "\n",
    "#Parse the file in read settings\n",
    "with open(file, 'r') as file:\n",
    "    content = file.read()\n",
    "#Count the number of M\n",
    "positions = [i + 1 for i, char in enumerate(content) if char == 'M']\n",
    "\n",
    "#Create data frame with the position of each detected M or methylation in our file\n",
    "data = {'Position': positions, 'Letter': 'M'}\n",
    "df_M_position = pd.DataFrame(data)\n",
    "df_initial = df_initial.rename(columns={'Start': 'Position'})\n",
    "\n",
    "print(df_M_position)\n",
    "print(df_initial)"
   ]
  },
  {
   "cell_type": "code",
   "execution_count": 6,
   "id": "39a915e8-0583-49ad-a89f-47f3f59b7303",
   "metadata": {
    "tags": []
   },
   "outputs": [
    {
     "name": "stdout",
     "output_type": "stream",
     "text": [
      "    Position Letter\n",
      "0         29      M\n",
      "1         33      M\n",
      "2         38      M\n",
      "3        102      M\n",
      "4        130      M\n",
      "..       ...    ...\n",
      "82      2836      M\n",
      "83      2843      M\n",
      "84      2957      M\n",
      "85      2967      M\n",
      "86      2978      M\n",
      "\n",
      "[87 rows x 2 columns]\n",
      "    Type  Position   End\n",
      "0    CHG         2     4\n",
      "1    CHH         6     8\n",
      "2    CHH        11    13\n",
      "3    CpG        20    21\n",
      "4    CHH        29    31\n",
      "..   ...       ...   ...\n",
      "395  CHH      3139  3141\n",
      "396  CHH      3143  3145\n",
      "397  CHH      3169  3171\n",
      "398  CHH      3176  3178\n",
      "399  CHH      3195  3197\n",
      "\n",
      "[400 rows x 3 columns]\n"
     ]
    }
   ],
   "source": [
    "#Assign our second fasta or text file to the variable file\n",
    "file = '24dpi_GRBV_M_Neg.txt' \n",
    "\n",
    "#Parse the file in read settings\n",
    "with open(file, 'r') as file:\n",
    "    content = file.read()\n",
    "#Count the number of M\n",
    "positions = [i + 1 for i, char in enumerate(content) if char == 'M']\n",
    "\n",
    "#Create data frame with the position of each detected M or methylation in our file\n",
    "data_Neg = {'Position': positions, 'Letter': 'M'}\n",
    "df_M_position_Neg = pd.DataFrame(data_Neg)\n",
    "df_initial = df_initial.rename(columns={'Start': 'Position'})\n",
    "\n",
    "print(df_M_position_Neg)\n",
    "print(df_initial)"
   ]
  },
  {
   "cell_type": "code",
   "execution_count": 7,
   "id": "84351889-9999-4e70-9f6e-7f71dabf748f",
   "metadata": {
    "tags": []
   },
   "outputs": [
    {
     "data": {
      "text/html": [
       "<div>\n",
       "<style scoped>\n",
       "    .dataframe tbody tr th:only-of-type {\n",
       "        vertical-align: middle;\n",
       "    }\n",
       "\n",
       "    .dataframe tbody tr th {\n",
       "        vertical-align: top;\n",
       "    }\n",
       "\n",
       "    .dataframe thead th {\n",
       "        text-align: right;\n",
       "    }\n",
       "</style>\n",
       "<table border=\"1\" class=\"dataframe\">\n",
       "  <thead>\n",
       "    <tr style=\"text-align: right;\">\n",
       "      <th></th>\n",
       "      <th>Type</th>\n",
       "      <th>Position</th>\n",
       "    </tr>\n",
       "  </thead>\n",
       "  <tbody>\n",
       "    <tr>\n",
       "      <th>0</th>\n",
       "      <td>CHH</td>\n",
       "      <td>6</td>\n",
       "    </tr>\n",
       "    <tr>\n",
       "      <th>1</th>\n",
       "      <td>CHH</td>\n",
       "      <td>29</td>\n",
       "    </tr>\n",
       "    <tr>\n",
       "      <th>2</th>\n",
       "      <td>CpG</td>\n",
       "      <td>33</td>\n",
       "    </tr>\n",
       "    <tr>\n",
       "      <th>3</th>\n",
       "      <td>CHH</td>\n",
       "      <td>38</td>\n",
       "    </tr>\n",
       "    <tr>\n",
       "      <th>4</th>\n",
       "      <td>CpG</td>\n",
       "      <td>102</td>\n",
       "    </tr>\n",
       "  </tbody>\n",
       "</table>\n",
       "</div>"
      ],
      "text/plain": [
       "  Type  Position\n",
       "0  CHH         6\n",
       "1  CHH        29\n",
       "2  CpG        33\n",
       "3  CHH        38\n",
       "4  CpG       102"
      ]
     },
     "execution_count": 7,
     "metadata": {},
     "output_type": "execute_result"
    }
   ],
   "source": [
    "#Merge the two\n",
    "final_df = pd.merge(df_initial, df_M_position, on='Position')\n",
    "df = final_df.drop('Letter', axis=1)\n",
    "df = df.drop('End', axis=1)\n",
    "\n",
    "df.head()"
   ]
  },
  {
   "cell_type": "code",
   "execution_count": 8,
   "id": "6f612911-a19c-4936-aa93-b05e013aa631",
   "metadata": {
    "tags": []
   },
   "outputs": [
    {
     "data": {
      "text/html": [
       "<div>\n",
       "<style scoped>\n",
       "    .dataframe tbody tr th:only-of-type {\n",
       "        vertical-align: middle;\n",
       "    }\n",
       "\n",
       "    .dataframe tbody tr th {\n",
       "        vertical-align: top;\n",
       "    }\n",
       "\n",
       "    .dataframe thead th {\n",
       "        text-align: right;\n",
       "    }\n",
       "</style>\n",
       "<table border=\"1\" class=\"dataframe\">\n",
       "  <thead>\n",
       "    <tr style=\"text-align: right;\">\n",
       "      <th></th>\n",
       "      <th>Type</th>\n",
       "      <th>Position</th>\n",
       "    </tr>\n",
       "  </thead>\n",
       "  <tbody>\n",
       "    <tr>\n",
       "      <th>0</th>\n",
       "      <td>CHH</td>\n",
       "      <td>29</td>\n",
       "    </tr>\n",
       "    <tr>\n",
       "      <th>1</th>\n",
       "      <td>CpG</td>\n",
       "      <td>33</td>\n",
       "    </tr>\n",
       "    <tr>\n",
       "      <th>2</th>\n",
       "      <td>CHH</td>\n",
       "      <td>38</td>\n",
       "    </tr>\n",
       "    <tr>\n",
       "      <th>3</th>\n",
       "      <td>CpG</td>\n",
       "      <td>102</td>\n",
       "    </tr>\n",
       "    <tr>\n",
       "      <th>4</th>\n",
       "      <td>CHH</td>\n",
       "      <td>130</td>\n",
       "    </tr>\n",
       "  </tbody>\n",
       "</table>\n",
       "</div>"
      ],
      "text/plain": [
       "  Type  Position\n",
       "0  CHH        29\n",
       "1  CpG        33\n",
       "2  CHH        38\n",
       "3  CpG       102\n",
       "4  CHH       130"
      ]
     },
     "execution_count": 8,
     "metadata": {},
     "output_type": "execute_result"
    }
   ],
   "source": [
    "#Merge the two\n",
    "final_df_Neg = pd.merge(df_initial, df_M_position_Neg, on='Position')\n",
    "df_Neg = final_df_Neg.drop('Letter', axis=1)\n",
    "df_Neg = df_Neg.drop('End', axis=1)\n",
    "\n",
    "df_Neg.head()"
   ]
  },
  {
   "cell_type": "code",
   "execution_count": 9,
   "id": "cb8b6de6-829b-4702-9390-5e9d41c615d6",
   "metadata": {
    "tags": []
   },
   "outputs": [
    {
     "data": {
      "text/html": [
       "<div>\n",
       "<style scoped>\n",
       "    .dataframe tbody tr th:only-of-type {\n",
       "        vertical-align: middle;\n",
       "    }\n",
       "\n",
       "    .dataframe tbody tr th {\n",
       "        vertical-align: top;\n",
       "    }\n",
       "\n",
       "    .dataframe thead th {\n",
       "        text-align: right;\n",
       "    }\n",
       "</style>\n",
       "<table border=\"1\" class=\"dataframe\">\n",
       "  <thead>\n",
       "    <tr style=\"text-align: right;\">\n",
       "      <th></th>\n",
       "      <th>Name</th>\n",
       "      <th>Start</th>\n",
       "      <th>End</th>\n",
       "    </tr>\n",
       "  </thead>\n",
       "  <tbody>\n",
       "    <tr>\n",
       "      <th>0</th>\n",
       "      <td>Hotspot 1</td>\n",
       "      <td>222</td>\n",
       "      <td>369</td>\n",
       "    </tr>\n",
       "    <tr>\n",
       "      <th>1</th>\n",
       "      <td>Hotspot 2</td>\n",
       "      <td>377</td>\n",
       "      <td>536</td>\n",
       "    </tr>\n",
       "    <tr>\n",
       "      <th>2</th>\n",
       "      <td>Hotspot 3</td>\n",
       "      <td>552</td>\n",
       "      <td>721</td>\n",
       "    </tr>\n",
       "    <tr>\n",
       "      <th>3</th>\n",
       "      <td>Hotspot 4</td>\n",
       "      <td>732</td>\n",
       "      <td>851</td>\n",
       "    </tr>\n",
       "    <tr>\n",
       "      <th>4</th>\n",
       "      <td>Hotspot 5</td>\n",
       "      <td>871</td>\n",
       "      <td>1201</td>\n",
       "    </tr>\n",
       "    <tr>\n",
       "      <th>5</th>\n",
       "      <td>Hotspot 6</td>\n",
       "      <td>1496</td>\n",
       "      <td>1636</td>\n",
       "    </tr>\n",
       "    <tr>\n",
       "      <th>6</th>\n",
       "      <td>Hotspot 7</td>\n",
       "      <td>1651</td>\n",
       "      <td>1751</td>\n",
       "    </tr>\n",
       "    <tr>\n",
       "      <th>7</th>\n",
       "      <td>Hotspot 8</td>\n",
       "      <td>2631</td>\n",
       "      <td>2831</td>\n",
       "    </tr>\n",
       "    <tr>\n",
       "      <th>8</th>\n",
       "      <td>Hotspot 9</td>\n",
       "      <td>2952</td>\n",
       "      <td>3051</td>\n",
       "    </tr>\n",
       "  </tbody>\n",
       "</table>\n",
       "</div>"
      ],
      "text/plain": [
       "        Name  Start   End\n",
       "0  Hotspot 1    222   369\n",
       "1  Hotspot 2    377   536\n",
       "2  Hotspot 3    552   721\n",
       "3  Hotspot 4    732   851\n",
       "4  Hotspot 5    871  1201\n",
       "5  Hotspot 6   1496  1636\n",
       "6  Hotspot 7   1651  1751\n",
       "7  Hotspot 8   2631  2831\n",
       "8  Hotspot 9   2952  3051"
      ]
     },
     "execution_count": 9,
     "metadata": {},
     "output_type": "execute_result"
    }
   ],
   "source": [
    "#Here I'm creating a dictionary with the data for each column\n",
    "data = {'Name': ['Hotspot 1', 'Hotspot 2', 'Hotspot 3', 'Hotspot 4', 'Hotspot 5', 'Hotspot 6', 'Hotspot 7', 'Hotspot 8', 'Hotspot 9'],\n",
    "        'Start': [222, 377, 552, 732, 871, 1496, 1651, 2631, 2952],\n",
    "        'End': [369, 536, 721, 851, 1201, 1636, 1751, 2831, 3051]}\n",
    "\n",
    "#Dictionary to dataframe\n",
    "features = pd.DataFrame(data)\n",
    "\n",
    "features"
   ]
  },
  {
   "cell_type": "code",
   "execution_count": 10,
   "id": "970814a1-0c5a-4c9d-abb7-341362666770",
   "metadata": {
    "tags": []
   },
   "outputs": [
    {
     "name": "stdout",
     "output_type": "stream",
     "text": [
      "   Type Position       Name\n",
      "0   CHH      410  Hotspot 2\n",
      "1   CHG      425  Hotspot 2\n",
      "2   CHG      458  Hotspot 2\n",
      "3   CHH      464  Hotspot 2\n",
      "4   CHH      475  Hotspot 2\n",
      "5   CHG      486  Hotspot 2\n",
      "6   CHH      494  Hotspot 2\n",
      "7   CpG      497  Hotspot 2\n",
      "8   CpG      512  Hotspot 2\n",
      "9   CHH      662  Hotspot 3\n",
      "10  CHH      666  Hotspot 3\n",
      "11  CpG      762  Hotspot 4\n",
      "12  CHG      780  Hotspot 4\n",
      "13  CpG      788  Hotspot 4\n",
      "14  CpG      791  Hotspot 4\n",
      "15  CHH      800  Hotspot 4\n",
      "16  CHH      829  Hotspot 4\n",
      "17  CHH      956  Hotspot 5\n",
      "18  CHH      967  Hotspot 5\n",
      "19  CHH      986  Hotspot 5\n",
      "20  CHH     1022  Hotspot 5\n",
      "21  CHH     1037  Hotspot 5\n",
      "22  CHG     1047  Hotspot 5\n",
      "23  CHH     1057  Hotspot 5\n",
      "24  CpG     1075  Hotspot 5\n",
      "25  CHH     1092  Hotspot 5\n",
      "26  CpG     1098  Hotspot 5\n",
      "27  CpG     1115  Hotspot 5\n",
      "28  CpG     1127  Hotspot 5\n",
      "29  CHG     1172  Hotspot 5\n",
      "30  CHH     1187  Hotspot 5\n",
      "31  CHH     1194  Hotspot 5\n",
      "32  CHH     1564  Hotspot 6\n",
      "33  CHH     1570  Hotspot 6\n",
      "34  CHH     1574  Hotspot 6\n",
      "35  CpG     1605  Hotspot 6\n",
      "36  CHG     1615  Hotspot 6\n",
      "37  CpG     1674  Hotspot 7\n",
      "38  CHG     1677  Hotspot 7\n",
      "39  CHH     1694  Hotspot 7\n",
      "40  CHH     2633  Hotspot 8\n",
      "41  CHH     2645  Hotspot 8\n",
      "42  CHH     2660  Hotspot 8\n",
      "43  CHH     2663  Hotspot 8\n",
      "44  CHH     2718  Hotspot 8\n",
      "45  CpG     2723  Hotspot 8\n",
      "46  CHH     2735  Hotspot 8\n",
      "47  CHG     2740  Hotspot 8\n",
      "48  CHH     2775  Hotspot 8\n",
      "49  CHH     2957  Hotspot 9\n",
      "50  CHH     2963  Hotspot 9\n",
      "51  CHG     2967  Hotspot 9\n",
      "52  CHG     2978  Hotspot 9\n",
      "53  CHH     2983  Hotspot 9\n",
      "54  CpG     3016  Hotspot 9\n",
      "55  CHH     3031  Hotspot 9\n",
      "56  CHH     3034  Hotspot 9\n"
     ]
    }
   ],
   "source": [
    "#Create an empty data frame to store the results from this code cell, with three columns named type, position, name\n",
    "df_result = pd.DataFrame(columns=['Type', 'Position', 'Name'])\n",
    "\n",
    "#Iterate over each row in our data frame (df) containing the position and type of sites of the methylations\n",
    "for index, row in df.iterrows():\n",
    "    position = row['Position']\n",
    "    \n",
    "    #Iterate over each row in the features data frame to use the coordinates to assign our methylations from df to the features contained in the features data frame\n",
    "    for index2, row2 in features.iterrows():\n",
    "        start = row2['Start']\n",
    "        end = row2['End']\n",
    "        \n",
    "        #If loop to check if the given position falls within the range provided with the genomic features\n",
    "        if start <= position <= end:\n",
    "            #Create a new temporary data frame with the Type (methylation site), Position, and Name (of the feature)\n",
    "            temp_df = pd.DataFrame({'Type': [row['Type']],\n",
    "                                    'Position': [row['Position']],\n",
    "                                    'Name': [row2['Name']]})\n",
    "            \n",
    "            #Concatenate the temporary data frame with df_result\n",
    "            df_result = pd.concat([df_result, temp_df], ignore_index=True)\n",
    "            break  #Break out of the inner loop we created once we find a match\n",
    "\n",
    "print(df_result)"
   ]
  },
  {
   "cell_type": "code",
   "execution_count": 11,
   "id": "fe28001b-935f-49f8-ab28-2f9398248cf2",
   "metadata": {
    "tags": []
   },
   "outputs": [
    {
     "name": "stdout",
     "output_type": "stream",
     "text": [
      "   Type Position       Name\n",
      "0   CHH      410  Hotspot 2\n",
      "1   CHG      425  Hotspot 2\n",
      "2   CHG      458  Hotspot 2\n",
      "3   CHH      464  Hotspot 2\n",
      "4   CHH      475  Hotspot 2\n",
      "5   CHG      486  Hotspot 2\n",
      "6   CHH      494  Hotspot 2\n",
      "7   CpG      497  Hotspot 2\n",
      "8   CpG      512  Hotspot 2\n",
      "9   CHH      662  Hotspot 3\n",
      "10  CHH      666  Hotspot 3\n",
      "11  CpG      755  Hotspot 4\n",
      "12  CpG      788  Hotspot 4\n",
      "13  CpG      791  Hotspot 4\n",
      "14  CHH      800  Hotspot 4\n",
      "15  CpG      803  Hotspot 4\n",
      "16  CHH      829  Hotspot 4\n",
      "17  CHH      956  Hotspot 5\n",
      "18  CpG      963  Hotspot 5\n",
      "19  CHH      967  Hotspot 5\n",
      "20  CpG      976  Hotspot 5\n",
      "21  CHH      986  Hotspot 5\n",
      "22  CHH     1022  Hotspot 5\n",
      "23  CHG     1047  Hotspot 5\n",
      "24  CHH     1057  Hotspot 5\n",
      "25  CpG     1075  Hotspot 5\n",
      "26  CHH     1092  Hotspot 5\n",
      "27  CpG     1098  Hotspot 5\n",
      "28  CpG     1115  Hotspot 5\n",
      "29  CpG     1127  Hotspot 5\n",
      "30  CHG     1172  Hotspot 5\n",
      "31  CHH     1187  Hotspot 5\n",
      "32  CHH     1194  Hotspot 5\n",
      "33  CHH     1564  Hotspot 6\n",
      "34  CHH     1570  Hotspot 6\n",
      "35  CHH     1574  Hotspot 6\n",
      "36  CpG     1605  Hotspot 6\n",
      "37  CHG     1615  Hotspot 6\n",
      "38  CpG     1674  Hotspot 7\n",
      "39  CHG     1677  Hotspot 7\n",
      "40  CHH     1694  Hotspot 7\n",
      "41  CpG     1719  Hotspot 7\n",
      "42  CHH     2633  Hotspot 8\n",
      "43  CHH     2645  Hotspot 8\n",
      "44  CHH     2660  Hotspot 8\n",
      "45  CHH     2663  Hotspot 8\n",
      "46  CHH     2718  Hotspot 8\n",
      "47  CpG     2723  Hotspot 8\n",
      "48  CHH     2735  Hotspot 8\n",
      "49  CpG     2762  Hotspot 8\n",
      "50  CHH     2775  Hotspot 8\n",
      "51  CHH     2957  Hotspot 9\n",
      "52  CHG     2967  Hotspot 9\n",
      "53  CHG     2978  Hotspot 9\n"
     ]
    }
   ],
   "source": [
    "#Create an empty data frame to store the results from this code cell, with three columns named type, position, name\n",
    "df_result_Neg = pd.DataFrame(columns=['Type', 'Position', 'Name'])\n",
    "\n",
    "#Iterate over each row in our data frame (df) containing the position and type of sites of the methylations\n",
    "for index, row in df_Neg.iterrows():\n",
    "    position = row['Position']\n",
    "    \n",
    "    #Iterate over each row in the features data frame to use the coordinates to assign our methylations from df to the features contained in the features data frame\n",
    "    for index2, row2 in features.iterrows():\n",
    "        start = row2['Start']\n",
    "        end = row2['End']\n",
    "        \n",
    "        #If loop to check if the given position falls within the range provided with the genomic features\n",
    "        if start <= position <= end:\n",
    "            #Create a new temporary data frame with the Type (methylation site), Position, and Name (of the feature)\n",
    "            temp_df_Neg = pd.DataFrame({'Type': [row['Type']],\n",
    "                                    'Position': [row['Position']],\n",
    "                                    'Name': [row2['Name']]})\n",
    "            \n",
    "            #Concatenate the temporary data frame with df_result\n",
    "            df_result_Neg = pd.concat([df_result_Neg, temp_df_Neg], ignore_index=True)\n",
    "            break  #Break out of the inner loop we created once we find a match\n",
    "\n",
    "print(df_result_Neg)"
   ]
  },
  {
   "cell_type": "code",
   "execution_count": 12,
   "id": "e6c6ceb7-6695-48ea-bef2-64b823d14c8a",
   "metadata": {
    "tags": []
   },
   "outputs": [
    {
     "data": {
      "text/plain": [
       "<Figure size 2000x1200 with 0 Axes>"
      ]
     },
     "metadata": {},
     "output_type": "display_data"
    },
    {
     "data": {
      "image/png": "[encoded data removed]",
      "text/plain": [
       "<Figure size 640x480 with 1 Axes>"
      ]
     },
     "metadata": {},
     "output_type": "display_data"
    }
   ],
   "source": [
    "import matplotlib.pyplot as plt\n",
    "\n",
    "# This code groups our data by Name and Type and gets their count from df_result\n",
    "grouped_Neg = df_result_Neg.groupby(['Name', 'Type']).size().reset_index(name='Count')\n",
    "\n",
    "# Produce a pivot table to get Type as columns and Name as index\n",
    "pivot_table_Neg = grouped_Neg.pivot(index='Name', columns='Type', values='Count').fillna(0)\n",
    "\n",
    "# Create a new figure before plotting\n",
    "plt.figure(figsize=(20, 12))\n",
    "\n",
    "# Plot the graph\n",
    "pivot_table_Neg.plot(kind='bar', stacked=True)\n",
    "plt.ylabel('Methylation Count', fontsize=12)\n",
    "plt.xlabel('GRBV Genomic Features', fontsize=12)\n",
    "plt.legend(title='Methylated Island Type')\n",
    "plt.xticks(rotation=15)\n",
    "plt.tight_layout()  # Arrange the plot elements properly\n",
    "plt.savefig(\"neg_1.png\", format='png')  # Save the plot as PNG\n",
    "plt.show()\n"
   ]
  },
  {
   "cell_type": "code",
   "execution_count": 13,
   "id": "1cb92278-956f-4f36-afa1-535fb068185d",
   "metadata": {
    "tags": []
   },
   "outputs": [
    {
     "data": {
      "image/png": "[encoded data removed]",
      "text/plain": [
       "<Figure size 640x480 with 1 Axes>"
      ]
     },
     "metadata": {},
     "output_type": "display_data"
    }
   ],
   "source": [
    "import matplotlib.pyplot as plt\n",
    "\n",
    "#This code groups our data by Name and Type and get their count from df_result\n",
    "grouped = df_result.groupby(['Name', 'Type']).size().reset_index(name='Count')\n",
    "\n",
    "#Produce a pivot table to get Type as columns and Name as index\n",
    "pivot_table = grouped.pivot(index='Name', columns='Type', values='Count').fillna(0)\n",
    "\n",
    "#Plot the graph\n",
    "pivot_table.plot(kind='bar', stacked=True)\n",
    "plt.ylabel('Methylation Count', fontsize=12)\n",
    "plt.xlabel('GRBV Genomic Features', fontsize=12)\n",
    "plt.legend(title='Methylated Island Type')\n",
    "plt.xticks(rotation=15)\n",
    "plt.tight_layout()  # Arrange the plot elements properly\n",
    "plt.savefig(\"pos_1.png\", format='png')  # Save the plot as PNG\n",
    "plt.show()"
   ]
  },
  {
   "cell_type": "code",
   "execution_count": 14,
   "id": "bf34542e-ef55-481f-a616-7859d39c1124",
   "metadata": {
    "tags": []
   },
   "outputs": [
    {
     "data": {
      "text/html": [
       "<div>\n",
       "<style scoped>\n",
       "    .dataframe tbody tr th:only-of-type {\n",
       "        vertical-align: middle;\n",
       "    }\n",
       "\n",
       "    .dataframe tbody tr th {\n",
       "        vertical-align: top;\n",
       "    }\n",
       "\n",
       "    .dataframe thead th {\n",
       "        text-align: right;\n",
       "    }\n",
       "</style>\n",
       "<table border=\"1\" class=\"dataframe\">\n",
       "  <thead>\n",
       "    <tr style=\"text-align: right;\">\n",
       "      <th></th>\n",
       "      <th>Name</th>\n",
       "      <th>Start</th>\n",
       "      <th>End</th>\n",
       "    </tr>\n",
       "  </thead>\n",
       "  <tbody>\n",
       "    <tr>\n",
       "      <th>0</th>\n",
       "      <td>Structural</td>\n",
       "      <td>517</td>\n",
       "      <td>1737</td>\n",
       "    </tr>\n",
       "    <tr>\n",
       "      <th>1</th>\n",
       "      <td>Non Structural</td>\n",
       "      <td>1898</td>\n",
       "      <td>3045</td>\n",
       "    </tr>\n",
       "    <tr>\n",
       "      <th>2</th>\n",
       "      <td>LIR</td>\n",
       "      <td>1</td>\n",
       "      <td>292</td>\n",
       "    </tr>\n",
       "  </tbody>\n",
       "</table>\n",
       "</div>"
      ],
      "text/plain": [
       "             Name  Start   End\n",
       "0      Structural    517  1737\n",
       "1  Non Structural   1898  3045\n",
       "2             LIR      1   292"
      ]
     },
     "execution_count": 14,
     "metadata": {},
     "output_type": "execute_result"
    }
   ],
   "source": [
    "#Here I'm creating a dictionary with the data for each column\n",
    "data2 = {'Name': ['Structural', 'Non Structural', 'LIR'],\n",
    "        'Start': [517, 1898, 1],\n",
    "        'End': [1737, 3045, 292]}\n",
    "\n",
    "#Dictionary to dataframe\n",
    "features2 = pd.DataFrame(data2)\n",
    "\n",
    "features2"
   ]
  },
  {
   "cell_type": "code",
   "execution_count": 15,
   "id": "f16fd94b-9f8a-4657-a6ac-fa9774d944a3",
   "metadata": {
    "tags": []
   },
   "outputs": [
    {
     "name": "stdout",
     "output_type": "stream",
     "text": [
      "   Type Position            Name\n",
      "0   CHH        6             LIR\n",
      "1   CHH       29             LIR\n",
      "2   CpG       33             LIR\n",
      "3   CHH       38             LIR\n",
      "4   CpG      102             LIR\n",
      "..  ...      ...             ...\n",
      "63  CHG     2978  Non Structural\n",
      "64  CHH     2983  Non Structural\n",
      "65  CpG     3016  Non Structural\n",
      "66  CHH     3031  Non Structural\n",
      "67  CHH     3034  Non Structural\n",
      "\n",
      "[68 rows x 3 columns]\n"
     ]
    }
   ],
   "source": [
    "#As before, create an empty data frame to store the results\n",
    "df_result2 = pd.DataFrame(columns=['Type', 'Position', 'Name'])\n",
    "\n",
    "#Now iterate over each row in df...\n",
    "for index, row in df.iterrows():\n",
    "    position = row['Position']\n",
    "    \n",
    "    #...and over each row in features2\n",
    "    for index2, row2 in features2.iterrows():\n",
    "        start = row2['Start']\n",
    "        end = row2['End']\n",
    "        \n",
    "        #Position-to-range mapping\n",
    "        if start <= position <= end:\n",
    "            #New temporary data frame\n",
    "            temp_df2 = pd.DataFrame({'Type': [row['Type']],\n",
    "                                    'Position': [row['Position']],\n",
    "                                    'Name': [row2['Name']]})\n",
    "            \n",
    "            #Concatenation and results data frame\n",
    "            df_result2 = pd.concat([df_result2, temp_df2], ignore_index=True)\n",
    "            break\n",
    "\n",
    "print(df_result2)"
   ]
  },
  {
   "cell_type": "code",
   "execution_count": 16,
   "id": "918378b0-32dc-4af6-8c27-ff38d8d3f37d",
   "metadata": {
    "tags": []
   },
   "outputs": [
    {
     "data": {
      "text/plain": [
       "<Figure size 2000x1200 with 0 Axes>"
      ]
     },
     "metadata": {},
     "output_type": "display_data"
    },
    {
     "data": {
      "image/png": "[encoded data removed]",
      "text/plain": [
       "<Figure size 640x480 with 1 Axes>"
      ]
     },
     "metadata": {},
     "output_type": "display_data"
    }
   ],
   "source": [
    "import matplotlib.pyplot as plt\n",
    "\n",
    "# This code groups our data by Name and Type and gets their count from df_result\n",
    "grouped2 = df_result2.groupby(['Name', 'Type']).size().reset_index(name='Count')\n",
    "\n",
    "# Produce a pivot table to get Type as columns and Name as index\n",
    "pivot_table2 = grouped2.pivot(index='Name', columns='Type', values='Count').fillna(0)\n",
    "\n",
    "# Create a new figure\n",
    "plt.figure(figsize=(20, 12))\n",
    "\n",
    "# Plot the graph\n",
    "pivot_table2.plot(kind='bar', stacked=True)\n",
    "plt.xlabel('GRBV Genomic Features', fontsize=12)\n",
    "plt.ylabel('Methylation Count', fontsize=12)\n",
    "plt.legend(title='Type')\n",
    "plt.xticks(rotation=0)\n",
    "plt.tight_layout()  # Arrange the plot elements properly\n",
    "plt.savefig(\"pos_2.png\", format='png')  # Save the plot as PNG\n",
    "\n",
    "# Show the plot\n",
    "plt.show()\n"
   ]
  },
  {
   "cell_type": "code",
   "execution_count": 17,
   "id": "8080ad38-566e-46ce-8674-50791a086943",
   "metadata": {
    "tags": []
   },
   "outputs": [
    {
     "name": "stdout",
     "output_type": "stream",
     "text": [
      "   Type Position            Name\n",
      "0   CHH       29             LIR\n",
      "1   CpG       33             LIR\n",
      "2   CHH       38             LIR\n",
      "3   CpG      102             LIR\n",
      "4   CHH      130             LIR\n",
      "..  ...      ...             ...\n",
      "60  CpG     2836  Non Structural\n",
      "61  CHH     2843  Non Structural\n",
      "62  CHH     2957  Non Structural\n",
      "63  CHG     2967  Non Structural\n",
      "64  CHG     2978  Non Structural\n",
      "\n",
      "[65 rows x 3 columns]\n"
     ]
    }
   ],
   "source": [
    "#As before, create an empty data frame to store the results\n",
    "df_result2_Neg = pd.DataFrame(columns=['Type', 'Position', 'Name'])\n",
    "\n",
    "#Now iterate over each row in df...\n",
    "for index, row in df_Neg.iterrows():\n",
    "    position = row['Position']\n",
    "    \n",
    "    #...and over each row in features2\n",
    "    for index2, row2 in features2.iterrows():\n",
    "        start = row2['Start']\n",
    "        end = row2['End']\n",
    "        \n",
    "        #Position-to-range mapping\n",
    "        if start <= position <= end:\n",
    "            #New temporary data frame\n",
    "            temp_df2_Neg = pd.DataFrame({'Type': [row['Type']],\n",
    "                                    'Position': [row['Position']],\n",
    "                                    'Name': [row2['Name']]})\n",
    "            \n",
    "            #Concatenation and results data frame\n",
    "            df_result2_Neg = pd.concat([df_result2_Neg, temp_df2_Neg], ignore_index=True)\n",
    "            break\n",
    "\n",
    "print(df_result2_Neg)"
   ]
  },
  {
   "cell_type": "code",
   "execution_count": 18,
   "id": "4750d0c7-8bd5-43d1-b837-8742ebc4c218",
   "metadata": {
    "tags": []
   },
   "outputs": [
    {
     "data": {
      "text/plain": [
       "<Figure size 2000x1200 with 0 Axes>"
      ]
     },
     "metadata": {},
     "output_type": "display_data"
    },
    {
     "data": {
      "image/png": "[encoded data removed]",
      "text/plain": [
       "<Figure size 640x480 with 1 Axes>"
      ]
     },
     "metadata": {},
     "output_type": "display_data"
    }
   ],
   "source": [
    "#This code groups our data by Name and Type and get their count from df_result\n",
    "grouped2_Neg = df_result2_Neg.groupby(['Name', 'Type']).size().reset_index(name='Count')\n",
    "\n",
    "# Pivot table x indexing step\n",
    "pivot_table2_Neg = grouped2_Neg.pivot(index='Name', columns='Type', values='Count').fillna(0)\n",
    "\n",
    "# Create a new figure\n",
    "plt.figure(figsize=(20, 12))\n",
    "\n",
    "# Plot the graph\n",
    "pivot_table2_Neg.plot(kind='bar', stacked=True)\n",
    "plt.xlabel('GRBV Genomic Features', fontsize=12)\n",
    "plt.ylabel('Methylation Count', fontsize=12)\n",
    "plt.legend(title='Type')\n",
    "plt.xticks(rotation=0)\n",
    "plt.tight_layout()  # Arrange the plot elements properly\n",
    "plt.savefig(\"neg_2.png\", format='png')  # Save the plot as PNG\n",
    "\n",
    "# Show the plot\n",
    "plt.show()"
   ]
  },
  {
   "cell_type": "code",
   "execution_count": 31,
   "id": "b9c7187a-4cb6-44a8-94d0-d0a72334e683",
   "metadata": {},
   "outputs": [
    {
     "ename": "KeyError",
     "evalue": "'Feature_Length'",
     "output_type": "error",
     "traceback": [
      "\u001b[0;31m---------------------------------------------------------------------------\u001b[0m",
      "\u001b[0;31mKeyError\u001b[0m                                  Traceback (most recent call last)",
      "File \u001b[0;32m~/miniconda3/envs/myenv/lib/python3.8/site-packages/pandas/core/indexes/base.py:3653\u001b[0m, in \u001b[0;36mIndex.get_loc\u001b[0;34m(self, key)\u001b[0m\n\u001b[1;32m   3652\u001b[0m \u001b[38;5;28;01mtry\u001b[39;00m:\n\u001b[0;32m-> 3653\u001b[0m     \u001b[38;5;28;01mreturn\u001b[39;00m \u001b[38;5;28;43mself\u001b[39;49m\u001b[38;5;241;43m.\u001b[39;49m\u001b[43m_engine\u001b[49m\u001b[38;5;241;43m.\u001b[39;49m\u001b[43mget_loc\u001b[49m\u001b[43m(\u001b[49m\u001b[43mcasted_key\u001b[49m\u001b[43m)\u001b[49m\n\u001b[1;32m   3654\u001b[0m \u001b[38;5;28;01mexcept\u001b[39;00m \u001b[38;5;167;01mKeyError\u001b[39;00m \u001b[38;5;28;01mas\u001b[39;00m err:\n",
      "File \u001b[0;32m~/miniconda3/envs/myenv/lib/python3.8/site-packages/pandas/_libs/index.pyx:147\u001b[0m, in \u001b[0;36mpandas._libs.index.IndexEngine.get_loc\u001b[0;34m()\u001b[0m\n",
      "File \u001b[0;32m~/miniconda3/envs/myenv/lib/python3.8/site-packages/pandas/_libs/index.pyx:176\u001b[0m, in \u001b[0;36mpandas._libs.index.IndexEngine.get_loc\u001b[0;34m()\u001b[0m\n",
      "File \u001b[0;32mpandas/_libs/hashtable_class_helper.pxi:7080\u001b[0m, in \u001b[0;36mpandas._libs.hashtable.PyObjectHashTable.get_item\u001b[0;34m()\u001b[0m\n",
      "File \u001b[0;32mpandas/_libs/hashtable_class_helper.pxi:7088\u001b[0m, in \u001b[0;36mpandas._libs.hashtable.PyObjectHashTable.get_item\u001b[0;34m()\u001b[0m\n",
      "\u001b[0;31mKeyError\u001b[0m: 'Feature_Length'",
      "\nThe above exception was the direct cause of the following exception:\n",
      "\u001b[0;31mKeyError\u001b[0m                                  Traceback (most recent call last)",
      "Cell \u001b[0;32mIn[31], line 46\u001b[0m\n\u001b[1;32m     43\u001b[0m grouped2 \u001b[38;5;241m=\u001b[39m grouped2\u001b[38;5;241m.\u001b[39mmerge(features2, on\u001b[38;5;241m=\u001b[39m\u001b[38;5;124m'\u001b[39m\u001b[38;5;124mName\u001b[39m\u001b[38;5;124m'\u001b[39m, how\u001b[38;5;241m=\u001b[39m\u001b[38;5;124m'\u001b[39m\u001b[38;5;124mleft\u001b[39m\u001b[38;5;124m'\u001b[39m)\n\u001b[1;32m     45\u001b[0m \u001b[38;5;66;03m# Calculate the percentage of methylation count relative to the length of each genomic feature\u001b[39;00m\n\u001b[0;32m---> 46\u001b[0m grouped2[\u001b[38;5;124m'\u001b[39m\u001b[38;5;124mPercentage\u001b[39m\u001b[38;5;124m'\u001b[39m] \u001b[38;5;241m=\u001b[39m (grouped2[\u001b[38;5;124m'\u001b[39m\u001b[38;5;124mCount\u001b[39m\u001b[38;5;124m'\u001b[39m] \u001b[38;5;241m/\u001b[39m \u001b[43mgrouped2\u001b[49m\u001b[43m[\u001b[49m\u001b[38;5;124;43m'\u001b[39;49m\u001b[38;5;124;43mFeature_Length\u001b[39;49m\u001b[38;5;124;43m'\u001b[39;49m\u001b[43m]\u001b[49m) \u001b[38;5;241m*\u001b[39m \u001b[38;5;241m100\u001b[39m\n\u001b[1;32m     48\u001b[0m \u001b[38;5;66;03m# Produce a pivot table to get Type as columns and Name as index\u001b[39;00m\n\u001b[1;32m     49\u001b[0m pivot_table2 \u001b[38;5;241m=\u001b[39m grouped2\u001b[38;5;241m.\u001b[39mpivot(index\u001b[38;5;241m=\u001b[39m\u001b[38;5;124m'\u001b[39m\u001b[38;5;124mName\u001b[39m\u001b[38;5;124m'\u001b[39m, columns\u001b[38;5;241m=\u001b[39m\u001b[38;5;124m'\u001b[39m\u001b[38;5;124mType\u001b[39m\u001b[38;5;124m'\u001b[39m, values\u001b[38;5;241m=\u001b[39m\u001b[38;5;124m'\u001b[39m\u001b[38;5;124mPercentage\u001b[39m\u001b[38;5;124m'\u001b[39m)\u001b[38;5;241m.\u001b[39mfillna(\u001b[38;5;241m0\u001b[39m)\n",
      "File \u001b[0;32m~/miniconda3/envs/myenv/lib/python3.8/site-packages/pandas/core/frame.py:3761\u001b[0m, in \u001b[0;36mDataFrame.__getitem__\u001b[0;34m(self, key)\u001b[0m\n\u001b[1;32m   3759\u001b[0m \u001b[38;5;28;01mif\u001b[39;00m \u001b[38;5;28mself\u001b[39m\u001b[38;5;241m.\u001b[39mcolumns\u001b[38;5;241m.\u001b[39mnlevels \u001b[38;5;241m>\u001b[39m \u001b[38;5;241m1\u001b[39m:\n\u001b[1;32m   3760\u001b[0m     \u001b[38;5;28;01mreturn\u001b[39;00m \u001b[38;5;28mself\u001b[39m\u001b[38;5;241m.\u001b[39m_getitem_multilevel(key)\n\u001b[0;32m-> 3761\u001b[0m indexer \u001b[38;5;241m=\u001b[39m \u001b[38;5;28;43mself\u001b[39;49m\u001b[38;5;241;43m.\u001b[39;49m\u001b[43mcolumns\u001b[49m\u001b[38;5;241;43m.\u001b[39;49m\u001b[43mget_loc\u001b[49m\u001b[43m(\u001b[49m\u001b[43mkey\u001b[49m\u001b[43m)\u001b[49m\n\u001b[1;32m   3762\u001b[0m \u001b[38;5;28;01mif\u001b[39;00m is_integer(indexer):\n\u001b[1;32m   3763\u001b[0m     indexer \u001b[38;5;241m=\u001b[39m [indexer]\n",
      "File \u001b[0;32m~/miniconda3/envs/myenv/lib/python3.8/site-packages/pandas/core/indexes/base.py:3655\u001b[0m, in \u001b[0;36mIndex.get_loc\u001b[0;34m(self, key)\u001b[0m\n\u001b[1;32m   3653\u001b[0m     \u001b[38;5;28;01mreturn\u001b[39;00m \u001b[38;5;28mself\u001b[39m\u001b[38;5;241m.\u001b[39m_engine\u001b[38;5;241m.\u001b[39mget_loc(casted_key)\n\u001b[1;32m   3654\u001b[0m \u001b[38;5;28;01mexcept\u001b[39;00m \u001b[38;5;167;01mKeyError\u001b[39;00m \u001b[38;5;28;01mas\u001b[39;00m err:\n\u001b[0;32m-> 3655\u001b[0m     \u001b[38;5;28;01mraise\u001b[39;00m \u001b[38;5;167;01mKeyError\u001b[39;00m(key) \u001b[38;5;28;01mfrom\u001b[39;00m \u001b[38;5;21;01merr\u001b[39;00m\n\u001b[1;32m   3656\u001b[0m \u001b[38;5;28;01mexcept\u001b[39;00m \u001b[38;5;167;01mTypeError\u001b[39;00m:\n\u001b[1;32m   3657\u001b[0m     \u001b[38;5;66;03m# If we have a listlike key, _check_indexing_error will raise\u001b[39;00m\n\u001b[1;32m   3658\u001b[0m     \u001b[38;5;66;03m#  InvalidIndexError. Otherwise we fall through and re-raise\u001b[39;00m\n\u001b[1;32m   3659\u001b[0m     \u001b[38;5;66;03m#  the TypeError.\u001b[39;00m\n\u001b[1;32m   3660\u001b[0m     \u001b[38;5;28mself\u001b[39m\u001b[38;5;241m.\u001b[39m_check_indexing_error(key)\n",
      "\u001b[0;31mKeyError\u001b[0m: 'Feature_Length'"
     ]
    }
   ],
   "source": [
    "import pandas as pd\n",
    "import matplotlib.pyplot as plt\n",
    "\n",
    "# Here I'm creating a dictionary with the data for each column\n",
    "data2 = {'Name': ['Structural', 'Non Structural', 'LIR'],\n",
    "        'Start': [517, 1898, 1],\n",
    "        'End': [1737, 3045, 292]}\n",
    "\n",
    "# Dictionary to dataframe\n",
    "features2 = pd.DataFrame(data2)\n",
    "\n",
    "# Create an empty dataframe to store results\n",
    "df_result2 = pd.DataFrame(columns=['Type', 'Position', 'Name'])\n",
    "\n",
    "# Iterate over each row in the methylations dataframe (df_Neg)\n",
    "for index, row in df_Neg.iterrows():\n",
    "    position = row['Position']\n",
    "    \n",
    "    # Iterate over each row in the features dataframe to find the corresponding genomic feature\n",
    "    for index2, row2 in features2.iterrows():\n",
    "        start = row2['Start']\n",
    "        end = row2['End']\n",
    "        \n",
    "        # If loop to check if the given position falls within the range provided with the genomic features\n",
    "        if start <= position <= end:\n",
    "            # Create a new temporary dataframe with the Type (methylation site), Position, and Name (of the feature)\n",
    "            temp_df2 = pd.DataFrame({'Type': [row['Type']],\n",
    "                                    'Position': [row['Position']],\n",
    "                                    'Name': [row2['Name']]})\n",
    "            \n",
    "            # Concatenate the temporary dataframe with df_result2\n",
    "            df_result2 = pd.concat([df_result2, temp_df2], ignore_index=True)\n",
    "            break  # Break out of the inner loop once we find a match\n",
    "\n",
    "# Group the data by Name, Type, and Position and get the count of methylation events\n",
    "grouped2 = df_result2.groupby(['Name', 'Type', 'Position']).size().reset_index(name='Count')\n",
    "\n",
    "# Merge with features2 dataframe to get the length of each feature\n",
    "grouped2 = grouped2.merge(features2, on='Name', how='left')\n",
    "\n",
    "# Calculate the percentage of methylation count relative to the length of each genomic feature\n",
    "grouped2['Feature_Length'] = grouped2['End'] - grouped2['Start'] + 1\n",
    "grouped2['Percentage'] = (grouped2['Count'] / grouped2['Feature_Length']) * 100\n",
    "\n",
    "# Produce a pivot table to get Type as columns and Name as index\n",
    "pivot_table2 = grouped2.pivot_table(index='Name', columns='Type', values='Percentage', aggfunc='sum').fillna(0)\n",
    "\n",
    "# Create a new figure\n",
    "plt.figure(figsize=(20, 12))\n",
    "\n",
    "# Plot the graph\n",
    "pivot_table2.plot(kind='bar', stacked=True)\n",
    "plt.xlabel('GRBV Genomic Features', fontsize=12)\n",
    "plt.ylabel('Percentage of Methylation', fontsize=12)\n",
    "plt.legend(title='Type')\n",
    "plt.xticks(rotation=0)\n",
    "plt.tight_layout()  # Arrange the plot elements properly\n",
    "plt.savefig(\"pos_2.png\", format='png')  # Save the plot as PNG\n",
    "\n",
    "# Show the plot\n",
    "plt.show()\n"
   ]
  },
  {
   "cell_type": "code",
   "execution_count": 32,
   "id": "a8673d23-c41a-480d-acf6-92ad9cff77a4",
   "metadata": {},
   "outputs": [
    {
     "data": {
      "text/plain": [
       "<Figure size 2000x1200 with 0 Axes>"
      ]
     },
     "metadata": {},
     "output_type": "display_data"
    },
    {
     "data": {
      "image/png": "[encoded data removed]",
      "text/plain": [
       "<Figure size 640x480 with 1 Axes>"
      ]
     },
     "metadata": {},
     "output_type": "display_data"
    }
   ],
   "source": [
    "import pandas as pd\n",
    "import matplotlib.pyplot as plt\n",
    "\n",
    "# Here I'm creating a dictionary with the data for each column\n",
    "data2 = {'Name': ['Structural', 'Non Structural', 'LIR'],\n",
    "        'Start': [517, 1898, 1],\n",
    "        'End': [1737, 3045, 292]}\n",
    "\n",
    "# Dictionary to dataframe\n",
    "features2 = pd.DataFrame(data2)\n",
    "\n",
    "# Create an empty dataframe to store results\n",
    "df_result2 = pd.DataFrame(columns=['Type', 'Position', 'Name'])\n",
    "\n",
    "# Iterate over each row in the methylations dataframe (df_Neg)\n",
    "for index, row in df_Neg.iterrows():\n",
    "    position = row['Position']\n",
    "    \n",
    "    # Iterate over each row in the features dataframe to find the corresponding genomic feature\n",
    "    for index2, row2 in features2.iterrows():\n",
    "        start = row2['Start']\n",
    "        end = row2['End']\n",
    "        \n",
    "        # If loop to check if the given position falls within the range provided with the genomic features\n",
    "        if start <= position <= end:\n",
    "            # Create a new temporary dataframe with the Type (methylation site), Position, and Name (of the feature)\n",
    "            temp_df2 = pd.DataFrame({'Type': [row['Type']],\n",
    "                                    'Position': [row['Position']],\n",
    "                                    'Name': [row2['Name']]})\n",
    "            \n",
    "            # Concatenate the temporary dataframe with df_result2\n",
    "            df_result2 = pd.concat([df_result2, temp_df2], ignore_index=True)\n",
    "            break  # Break out of the inner loop once we find a match\n",
    "\n",
    "# Group the data by Name, Type, and Position and get the count of methylation events\n",
    "grouped2 = df_result2.groupby(['Name', 'Type', 'Position']).size().reset_index(name='Count')\n",
    "\n",
    "# Merge with features2 dataframe to get the length of each feature\n",
    "grouped2 = grouped2.merge(features2, on='Name', how='left')\n",
    "\n",
    "# Calculate the percentage of methylation count relative to the length of each genomic feature\n",
    "grouped2['Feature_Length'] = grouped2['End'] - grouped2['Start'] + 1\n",
    "grouped2['Percentage'] = (grouped2['Count'] / grouped2['Feature_Length']) * 100\n",
    "\n",
    "# Produce a pivot table to get Type as columns and Name as index\n",
    "pivot_table2 = grouped2.pivot_table(index='Name', columns='Type', values='Percentage', aggfunc='sum').fillna(0)\n",
    "\n",
    "# Create a new figure\n",
    "plt.figure(figsize=(20, 12))\n",
    "\n",
    "# Plot the graph\n",
    "pivot_table2.plot(kind='bar', stacked=True)\n",
    "plt.xlabel('GRBV Genomic Features', fontsize=12)\n",
    "plt.ylabel('Percentage of Methylation', fontsize=12)\n",
    "plt.legend(title='Type')\n",
    "plt.xticks(rotation=0)\n",
    "plt.tight_layout()  # Arrange the plot elements properly\n",
    "plt.savefig(\"neg_2.png\", format='png')  # Save the plot as PNG\n",
    "\n",
    "# Show the plot\n",
    "plt.show()\n"
   ]
  },
  {
   "cell_type": "code",
   "execution_count": null,
   "id": "363d9942-683e-4e5a-bc7c-fbfcd4f0b163",
   "metadata": {},
   "outputs": [],
   "source": []
  }
 ],
 "metadata": {
  "kernelspec": {
   "display_name": "Python 3 (ipykernel)",
   "language": "python",
   "name": "python3"
  },
  "language_info": {
   "codemirror_mode": {
    "name": "ipython",
    "version": 3
   },
   "file_extension": ".py",
   "mimetype": "text/x-python",
   "name": "python",
   "nbconvert_exporter": "python",
   "pygments_lexer": "ipython3",
   "version": "3.8.18"
  }
 },
 "nbformat": 4,
 "nbformat_minor": 5
}
